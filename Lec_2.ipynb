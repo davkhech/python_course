{
 "cells": [
  {
   "cell_type": "markdown",
   "metadata": {},
   "source": [
    "## Boolean"
   ]
  },
  {
   "cell_type": "markdown",
   "metadata": {},
   "source": [
    "In computer science, the <b>Boolean</b> data type is a data type, having two values (usually denoted <i>true</i> and <i>false</i>) <br>\n",
    "In Python the boolean type is <b>bool</b> and it's values are <b>True</b> and <b>False</b>"
   ]
  },
  {
   "cell_type": "code",
   "execution_count": null,
   "metadata": {},
   "outputs": [],
   "source": [
    "bool"
   ]
  },
  {
   "cell_type": "code",
   "execution_count": null,
   "metadata": {},
   "outputs": [],
   "source": [
    "type(True)"
   ]
  },
  {
   "cell_type": "code",
   "execution_count": null,
   "metadata": {},
   "outputs": [],
   "source": [
    "type(False)"
   ]
  },
  {
   "cell_type": "markdown",
   "metadata": {},
   "source": [
    " "
   ]
  },
  {
   "cell_type": "markdown",
   "metadata": {},
   "source": [
    "The basic functions that return boolean type are well known by you. They are comparison operators. For example:"
   ]
  },
  {
   "cell_type": "code",
   "execution_count": null,
   "metadata": {},
   "outputs": [],
   "source": [
    "5 == 5"
   ]
  },
  {
   "cell_type": "code",
   "execution_count": null,
   "metadata": {},
   "outputs": [],
   "source": [
    "4 < 9.6"
   ]
  },
  {
   "cell_type": "code",
   "execution_count": null,
   "metadata": {},
   "outputs": [],
   "source": [
    "9 < 4.6"
   ]
  },
  {
   "cell_type": "markdown",
   "metadata": {},
   "source": [
    " "
   ]
  },
  {
   "cell_type": "markdown",
   "metadata": {},
   "source": [
    " There are logical operators in python, which take booleans in argument and return boolean."
   ]
  },
  {
   "cell_type": "code",
   "execution_count": null,
   "metadata": {},
   "outputs": [],
   "source": [
    "not False"
   ]
  },
  {
   "cell_type": "code",
   "execution_count": null,
   "metadata": {},
   "outputs": [],
   "source": [
    "True and False"
   ]
  },
  {
   "cell_type": "code",
   "execution_count": null,
   "metadata": {},
   "outputs": [],
   "source": [
    "False or True"
   ]
  },
  {
   "cell_type": "markdown",
   "metadata": {},
   "source": [
    "<b>and</b> and <b>or</b> work from left to right. If the first argument of <b>and</b> is <b>False</b> then it will not evaluate the second argument and will return <b>False</b>. The same way if first argument of <b>or</b> is <b>True</b> then it will not evaluate the second argument and will return <b>True</b>."
   ]
  },
  {
   "cell_type": "markdown",
   "metadata": {},
   "source": [
    "<table border=\"1\" class=\"docutils\">\n",
    "<colgroup>\n",
    "<col width=\"25%\">\n",
    "<col width=\"62%\">\n",
    "<col width=\"13%\">\n",
    "</colgroup>\n",
    "<thead valign=\"bottom\">\n",
    "<tr class=\"row-odd\"><th class=\"head\">Operation</th>\n",
    "<th class=\"head\">Result</th>\n",
    "<th class=\"head\">Notes</th>\n",
    "</tr>\n",
    "</thead>\n",
    "<tbody valign=\"top\">\n",
    "<tr class=\"row-even\"><td><code class=\"docutils literal\"><span class=\"pre\">x</span> <span class=\"pre\">or</span> <span class=\"pre\">y</span></code></td>\n",
    "<td>if <em>x</em> is false, then <em>y</em>, else\n",
    "<em>x</em></td>\n",
    "<td>(1)</td>\n",
    "</tr>\n",
    "<tr class=\"row-odd\"><td><code class=\"docutils literal\"><span class=\"pre\">x</span> <span class=\"pre\">and</span> <span class=\"pre\">y</span></code></td>\n",
    "<td>if <em>x</em> is false, then <em>x</em>, else\n",
    "<em>y</em></td>\n",
    "<td>(2)</td>\n",
    "</tr>\n",
    "<tr class=\"row-even\"><td><code class=\"docutils literal\"><span class=\"pre\">not</span> <span class=\"pre\">x</span></code></td>\n",
    "<td>if <em>x</em> is false, then <code class=\"docutils literal\"><span class=\"pre\">True</span></code>,\n",
    "else <code class=\"docutils literal\"><span class=\"pre\">False</span></code></td>\n",
    "<td>(3)</td>\n",
    "</tr>\n",
    "</tbody>\n",
    "</table>"
   ]
  },
  {
   "cell_type": "markdown",
   "metadata": {},
   "source": [
    " "
   ]
  },
  {
   "cell_type": "markdown",
   "metadata": {},
   "source": [
    "### Conditionals"
   ]
  },
  {
   "cell_type": "markdown",
   "metadata": {},
   "source": [
    "In computer science, <b>conditional statements</b>, <b>conditional expressions</b> and <b>conditional constructs</b> are features of a programming language, which perform different computations or actions depending on whether a programmer-specified boolean condition evaluates to true or false. The basic principle of conditional expression is descriped above."
   ]
  },
  {
   "cell_type": "markdown",
   "metadata": {},
   "source": [
    "<pre><span class=\"vg\">If</span><span class=\"w\"> </span><span class=\"p\">(</span><span class=\"vg\">boolean</span><span class=\"w\"> </span><span class=\"vg\">condition</span><span class=\"p\">)</span><span class=\"w\"> </span><span class=\"vg\">Then</span>\n",
    "<span class=\"w\">    </span><span class=\"p\">(</span><span class=\"vg\">consequent</span><span class=\"p\">)</span>\n",
    "<span class=\"vg\">Else</span>\n",
    "<span class=\"w\">    </span><span class=\"p\">(</span><span class=\"vg\">alternative</span><span class=\"p\">)</span>\n",
    "<span class=\"vg\">End</span><span class=\"w\"> </span><span class=\"vg\">If</span>\n",
    "</pre>"
   ]
  },
  {
   "cell_type": "markdown",
   "metadata": {},
   "source": [
    "The boolean condition evaluates and if it's value is <u><i>true</i></u> the <b>then</b> part is evaluated otherwise the <b>else</b> part is evaluated. "
   ]
  },
  {
   "cell_type": "markdown",
   "metadata": {},
   "source": [
    "In python the syntax is:"
   ]
  },
  {
   "cell_type": "code",
   "execution_count": null,
   "metadata": {},
   "outputs": [],
   "source": [
    "if True:\n",
    "    print('the condition is true')\n",
    "else:\n",
    "    print('the condition is false')"
   ]
  },
  {
   "cell_type": "markdown",
   "metadata": {},
   "source": [
    " "
   ]
  },
  {
   "cell_type": "markdown",
   "metadata": {},
   "source": [
    "##### some examples: "
   ]
  },
  {
   "cell_type": "code",
   "execution_count": null,
   "metadata": {},
   "outputs": [],
   "source": [
    "if 5 % 2 == 0:\n",
    "    print('5 is even')\n",
    "else:\n",
    "    print('5 is odd')"
   ]
  },
  {
   "cell_type": "code",
   "execution_count": null,
   "metadata": {},
   "outputs": [],
   "source": [
    "import math\n",
    "if math.e ** math.pi > math.pi ** math.e:\n",
    "    print('e^pi > pi^e')\n",
    "else:\n",
    "    print('e^pi < pi^e')"
   ]
  },
  {
   "cell_type": "code",
   "execution_count": null,
   "metadata": {},
   "outputs": [],
   "source": [
    "x = 24\n",
    "if x // 10 == 2 and x % 3 == 0:\n",
    "    print('condition is met')"
   ]
  },
  {
   "cell_type": "markdown",
   "metadata": {},
   "source": [
    "To create more complicated control flow there is used <b><i>if elif </i></b> construction"
   ]
  },
  {
   "cell_type": "code",
   "execution_count": null,
   "metadata": {},
   "outputs": [],
   "source": [
    "if x / 8 > 10:\n",
    "    print(\"24 / 8 > 10\")\n",
    "elif x / 8 > 4:\n",
    "    print(\"24 / 8 > 4\")\n",
    "else:\n",
    "    print(\"the conditions upper are false\")"
   ]
  },
  {
   "cell_type": "markdown",
   "metadata": {},
   "source": [
    "There is syntax for inline if:"
   ]
  },
  {
   "cell_type": "code",
   "execution_count": null,
   "metadata": {},
   "outputs": [],
   "source": [
    "print('x is even') if x % 2 == 0 else print('x is odd')"
   ]
  },
  {
   "cell_type": "code",
   "execution_count": null,
   "metadata": {},
   "outputs": [],
   "source": [
    "print('x is odd') if x % 2 == 1 else print('x is even')"
   ]
  },
  {
   "cell_type": "markdown",
   "metadata": {},
   "source": [
    " "
   ]
  },
  {
   "cell_type": "markdown",
   "metadata": {},
   "source": [
    "## Loops"
   ]
  },
  {
   "cell_type": "markdown",
   "metadata": {},
   "source": [
    "A loop is a sequence of statements which is specified once but which may be carried out several times in succession. The code \"inside\" the loop (the body of the loop) is obeyed a specified number of times, or once for each of a collection of items, or until some condition is met, or indefinitely. In python there are two types of loops - <b> while </b> and <b> for </b> loops."
   ]
  },
  {
   "cell_type": "markdown",
   "metadata": {},
   "source": [
    "Expression in while loop evaluated repeatedely until given condition becomes false."
   ]
  },
  {
   "cell_type": "markdown",
   "metadata": {},
   "source": [
    "The syntax of while loop:"
   ]
  },
  {
   "cell_type": "markdown",
   "metadata": {},
   "source": [
    "<pre>while expression:\n",
    "   statement(s)\n",
    "</pre> "
   ]
  },
  {
   "cell_type": "code",
   "execution_count": null,
   "metadata": {},
   "outputs": [],
   "source": [
    "num = 5\n",
    "while num > 0:\n",
    "    print(\"Our number is equal to %d\" % num)\n",
    "    num -= 1"
   ]
  },
  {
   "cell_type": "code",
   "execution_count": null,
   "metadata": {},
   "outputs": [],
   "source": [
    "n = int(input()) \n",
    "length = 0 \n",
    "while n > 0:\n",
    "     n //= 10\n",
    "     length += 1\n",
    "print('The length of number given in input is ', length)"
   ]
  },
  {
   "cell_type": "markdown",
   "metadata": {},
   "source": [
    " "
   ]
  },
  {
   "cell_type": "markdown",
   "metadata": {},
   "source": [
    "#### Break, continue, else"
   ]
  },
  {
   "cell_type": "markdown",
   "metadata": {},
   "source": [
    "It is possible to change the flow of program from body of out loop. To exit evaluation of body of loop the <b>break</b> operation is used. Let's consider this example: we want get all input till it's not -1"
   ]
  },
  {
   "cell_type": "code",
   "execution_count": null,
   "metadata": {},
   "outputs": [],
   "source": [
    "while True:\n",
    "    x = int(input())\n",
    "    if x == -1:\n",
    "        break"
   ]
  },
  {
   "cell_type": "markdown",
   "metadata": {},
   "source": [
    " <b> continue </b> operator gives us opportunity to skip the evaluation of body. For example: print all numbers from 1 to 10 and skip multiples of 3"
   ]
  },
  {
   "cell_type": "code",
   "execution_count": null,
   "metadata": {},
   "outputs": [],
   "source": [
    "x = 0\n",
    "while x < 10:\n",
    "    x += 1\n",
    "    if x % 3 == 0:\n",
    "        continue\n",
    "    print(x)"
   ]
  },
  {
   "cell_type": "markdown",
   "metadata": {},
   "source": [
    "<b> else </b> statement is used to check if the condition has became <b>False</b> "
   ]
  },
  {
   "cell_type": "code",
   "execution_count": null,
   "metadata": {},
   "outputs": [],
   "source": [
    "x = 5\n",
    "while x > 0:\n",
    "    x -= 1\n",
    "else:\n",
    "    print('x became 0')"
   ]
  },
  {
   "cell_type": "code",
   "execution_count": null,
   "metadata": {},
   "outputs": [],
   "source": [
    "x = 5\n",
    "while x > 0:\n",
    "    x -= 1\n",
    "    if x % 3 == 0:\n",
    "        break\n",
    "else:\n",
    "    print('x became 0')"
   ]
  },
  {
   "cell_type": "markdown",
   "metadata": {},
   "source": [
    " "
   ]
  },
  {
   "cell_type": "markdown",
   "metadata": {},
   "source": [
    "### For loop"
   ]
  },
  {
   "cell_type": "markdown",
   "metadata": {},
   "source": [
    "For loop in python is not like in other languages. Python’s for statement iterates over the items of any sequence. The syntax is:"
   ]
  },
  {
   "cell_type": "markdown",
   "metadata": {},
   "source": [
    "<pre>for element in sequence:\n",
    "   statement(s)\n",
    "</pre> "
   ]
  },
  {
   "cell_type": "code",
   "execution_count": null,
   "metadata": {},
   "outputs": [],
   "source": [
    "for l in \"abracadabra\":\n",
    "    print(l + \"-\")"
   ]
  },
  {
   "cell_type": "code",
   "execution_count": null,
   "metadata": {},
   "outputs": [],
   "source": [
    "for fruit in \"orange\", \"apple\", \"kiwi\":\n",
    "    print(\"{} is a fruit\".format(fruit))"
   ]
  },
  {
   "cell_type": "markdown",
   "metadata": {},
   "source": [
    "<b>break</b>, <b>continue</b> and <b>else</b> work also for <b>for</b> loop"
   ]
  },
  {
   "cell_type": "code",
   "execution_count": null,
   "metadata": {},
   "outputs": [],
   "source": [
    "for l in \"abracadabra\":\n",
    "    if l is \"a\":\n",
    "        continue\n",
    "    print(l)\n",
    "else:\n",
    "    print('loop finished')"
   ]
  },
  {
   "cell_type": "markdown",
   "metadata": {},
   "source": [
    " "
   ]
  },
  {
   "cell_type": "markdown",
   "metadata": {},
   "source": [
    "### range "
   ]
  },
  {
   "cell_type": "markdown",
   "metadata": {},
   "source": [
    "If you do need to iterate over a sequence of numbers, the built-in function range() comes in handy. It generates arithmetic progressions. "
   ]
  },
  {
   "cell_type": "code",
   "execution_count": null,
   "metadata": {},
   "outputs": [],
   "source": [
    "for i in range(5):\n",
    "    print(i)"
   ]
  },
  {
   "cell_type": "markdown",
   "metadata": {},
   "source": [
    "<b>range</b> takes three integer parameters - start, end and step of progression. The end is not included in progression. If step parameter is omitted it's default value will be 1. In case start is omitted too the first element will be 0"
   ]
  },
  {
   "cell_type": "code",
   "execution_count": null,
   "metadata": {},
   "outputs": [],
   "source": [
    "range(5), range(-3, 10), range(4, 130, 5)"
   ]
  },
  {
   "cell_type": "code",
   "execution_count": null,
   "metadata": {},
   "outputs": [],
   "source": [
    "# Let's count sum of a_t = 4 + 6t progression where a_t < 100\n",
    "s = 0\n",
    "for x in range(4, 100, 6):\n",
    "    s += x\n",
    "print(s)"
   ]
  },
  {
   "cell_type": "code",
   "execution_count": null,
   "metadata": {},
   "outputs": [],
   "source": [
    "# n!\n",
    "f = 1\n",
    "n = int(input())\n",
    "for x in range(1, n + 1):\n",
    "    f *= x\n",
    "print(\"%d! = %d\" % (n, f))"
   ]
  },
  {
   "cell_type": "markdown",
   "metadata": {},
   "source": [
    " "
   ]
  },
  {
   "cell_type": "markdown",
   "metadata": {},
   "source": [
    "Let's calculate n'th number of fibonacci"
   ]
  },
  {
   "cell_type": "code",
   "execution_count": null,
   "metadata": {},
   "outputs": [],
   "source": [
    "n = int(input())\n",
    "a, b = 0, 1\n",
    "for _ in range(n):\n",
    "    a, b = b, a + b\n",
    "print(\"{}th number of fibonacci is {}\".format(n, a))"
   ]
  },
  {
   "cell_type": "markdown",
   "metadata": {},
   "source": [
    " "
   ]
  },
  {
   "cell_type": "markdown",
   "metadata": {},
   "source": [
    "1. In console a) print a square with side n, b) print triangle with side n\n",
    "2. Print the binary representation of some integer given from input\n",
    "3. Get all prime numbers till 1000 then till 1000000"
   ]
  },
  {
   "cell_type": "code",
   "execution_count": null,
   "metadata": {},
   "outputs": [],
   "source": [
    "# 1 a)\n",
    "n = int(input())\n",
    "for _ in range(n):\n",
    "    print('*' * n)"
   ]
  },
  {
   "cell_type": "code",
   "execution_count": null,
   "metadata": {},
   "outputs": [],
   "source": [
    "# 1 b)\n",
    "n = int(input())\n",
    "for x in range(n):\n",
    "    print('*' * (x + 1))"
   ]
  },
  {
   "cell_type": "code",
   "execution_count": null,
   "metadata": {},
   "outputs": [],
   "source": [
    "n = int(input())\n",
    "binary = \"\"\n",
    "while n > 0:\n",
    "    binary = str(n % 2) + binary\n",
    "    n //= 2\n",
    "print(binary)"
   ]
  },
  {
   "cell_type": "code",
   "execution_count": null,
   "metadata": {},
   "outputs": [],
   "source": [
    "binary = input()\n",
    "n = 0\n",
    "for d in binary:\n",
    "    n = 2 * n + int(d)\n",
    "print(n)"
   ]
  },
  {
   "cell_type": "code",
   "execution_count": null,
   "metadata": {},
   "outputs": [],
   "source": [
    "N = 100000\n",
    "is_prime = [True for _ in range(N)]\n",
    "for n in range(2, N):\n",
    "    if not is_prime[n]:\n",
    "        continue\n",
    "    for k in range(2 * n, N, n):\n",
    "        is_prime[k] = False\n",
    "print(is_prime)"
   ]
  },
  {
   "cell_type": "markdown",
   "metadata": {},
   "source": [
    " "
   ]
  },
  {
   "cell_type": "markdown",
   "metadata": {},
   "source": [
    "Problems on <b>if</b>\n",
    "http://informatics.mccme.ru/mod/statements/view3.php?id=276&chapterid=261\n"
   ]
  },
  {
   "cell_type": "markdown",
   "metadata": {},
   "source": [
    " "
   ]
  },
  {
   "cell_type": "markdown",
   "metadata": {},
   "source": [
    "Problems on <b>for</b> http://informatics.mccme.ru/mod/statements/view3.php?id=280&chapterid=342"
   ]
  },
  {
   "cell_type": "markdown",
   "metadata": {},
   "source": [
    " "
   ]
  },
  {
   "cell_type": "markdown",
   "metadata": {},
   "source": [
    "Problems on <b>while</b> http://informatics.mccme.ru/mod/statements/view3.php?id=2587&chapterid=119"
   ]
  },
  {
   "cell_type": "markdown",
   "metadata": {},
   "source": [
    " "
   ]
  },
  {
   "cell_type": "markdown",
   "metadata": {},
   "source": [
    "Reference: <br> http://informatics.mccme.ru/mod/book/view.php?id=2533&chapterid=353 <br>\n",
    "http://informatics.mccme.ru/course/view.php?id=8"
   ]
  }
 ],
 "metadata": {
  "kernelspec": {
   "display_name": "Python 3",
   "language": "python",
   "name": "python3"
  },
  "language_info": {
   "codemirror_mode": {
    "name": "ipython",
    "version": 3
   },
   "file_extension": ".py",
   "mimetype": "text/x-python",
   "name": "python",
   "nbconvert_exporter": "python",
   "pygments_lexer": "ipython3",
   "version": "3.5.4"
  }
 },
 "nbformat": 4,
 "nbformat_minor": 2
}
