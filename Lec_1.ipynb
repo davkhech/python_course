{
 "cells": [
  {
   "cell_type": "raw",
   "metadata": {},
   "source": [
    "Introduction to python, simple variable types (int, float, string)\n",
    "\n",
    "History, Versioning\n",
    "Why python?\n",
    "How to setup?\n",
    "How it interconnects with OS\n",
    "The way interpreter works\n",
    "Introduction to modules and pip\n",
    "Simple hello world program (import __hello__)\n",
    "The philosophy of python (import this)\n",
    "Variable types\n",
    "Simple operations with numbers (+, -, *, /, //, **)\n",
    "Operations with string\n",
    "Type transformations\n",
    "Examples: problems, problems string\n",
    "Reference: http://informatics.mccme.ru/mod/book/view.php?id=2301&chapterid=346"
   ]
  },
  {
   "cell_type": "code",
   "execution_count": null,
   "metadata": {},
   "outputs": [],
   "source": []
  }
 ],
 "metadata": {
  "kernelspec": {
   "display_name": "Python 3",
   "language": "python",
   "name": "python3"
  },
  "language_info": {
   "codemirror_mode": {
    "name": "ipython",
    "version": 3
   },
   "file_extension": ".py",
   "mimetype": "text/x-python",
   "name": "python",
   "nbconvert_exporter": "python",
   "pygments_lexer": "ipython3",
   "version": "3.5.4"
  }
 },
 "nbformat": 4,
 "nbformat_minor": 2
}
