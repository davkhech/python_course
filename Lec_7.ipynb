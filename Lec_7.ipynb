{
 "cells": [
  {
   "cell_type": "markdown",
   "metadata": {},
   "source": [
    "### Reading and Writing into files"
   ]
  },
  {
   "cell_type": "code",
   "execution_count": null,
   "metadata": {},
   "outputs": [],
   "source": [
    "input_file = open('sample_file.txt', 'r')\n",
    "s1 = input_file.readline()\n",
    "s2 = input_file.readline()\n",
    "input_file.close()"
   ]
  },
  {
   "cell_type": "code",
   "execution_count": null,
   "metadata": {},
   "outputs": [],
   "source": [
    "s1"
   ]
  },
  {
   "cell_type": "code",
   "execution_count": null,
   "metadata": {},
   "outputs": [],
   "source": [
    "s2"
   ]
  },
  {
   "cell_type": "markdown",
   "metadata": {},
   "source": [
    "The <b>with</b> statement is used to wrap the execution of a block with methods defined by a context manager"
   ]
  },
  {
   "cell_type": "code",
   "execution_count": null,
   "metadata": {},
   "outputs": [],
   "source": [
    "with open('sample_file.txt') as input_file:\n",
    "    s = input_file.readline()\n",
    "s"
   ]
  },
  {
   "cell_type": "code",
   "execution_count": null,
   "metadata": {},
   "outputs": [],
   "source": [
    "with open('sample_file.txt') as input_file:\n",
    "    s = input_file.readline().strip()\n",
    "s"
   ]
  },
  {
   "cell_type": "code",
   "execution_count": null,
   "metadata": {},
   "outputs": [],
   "source": [
    "with open('sample_output.txt', 'w') as output_file:\n",
    "    output_file.write(\"output\\n\")"
   ]
  },
  {
   "cell_type": "code",
   "execution_count": null,
   "metadata": {},
   "outputs": [],
   "source": [
    "with open('sample_output.txt', 'r') as input_file:\n",
    "    print(input_file.readline())"
   ]
  },
  {
   "cell_type": "markdown",
   "metadata": {},
   "source": [
    "Problem 1 <br>\n",
    "In the file there is given string containing letters and numbers. In output file write a string where letter is repeated n times, where n is the next number after given letter. <br> Example: a3b4c2e10b1 -> aaabbbbcceeeeeeeeeeb"
   ]
  },
  {
   "cell_type": "markdown",
   "metadata": {},
   "source": [
    "Problem 2 <br>\n",
    "Find the most frequent word in file. Ignore letter case. <br> Example: abc a bCd bC AbC BC BCD bcd ABC -> abc"
   ]
  },
  {
   "cell_type": "markdown",
   "metadata": {},
   "source": [
    "Problem 3 <br>\n",
    "We have a dictionary of known words and <i>K</i> sentences. We need to find the words from sentences which are not in dictionary. <br> Example: \n",
    "    \n",
    "    3\n",
    "    a\n",
    "    bb\n",
    "    cCc\n",
    "    2\n",
    "    a bb aab aba ccc\n",
    "    c bb aaa\n",
    "Output is: aab\n",
    "aba\n",
    "c\n",
    "aaa"
   ]
  },
  {
   "cell_type": "code",
   "execution_count": null,
   "metadata": {},
   "outputs": [],
   "source": [
    "with open('sample_output.txt', 'a') as output_file:\n",
    "    output_file.write(\"line appended\")"
   ]
  },
  {
   "cell_type": "code",
   "execution_count": null,
   "metadata": {},
   "outputs": [],
   "source": [
    "with open('sample_output.txt') as input_file:\n",
    "    for line in input_file:\n",
    "        print(line)"
   ]
  },
  {
   "cell_type": "markdown",
   "metadata": {},
   "source": [
    " "
   ]
  },
  {
   "cell_type": "markdown",
   "metadata": {},
   "source": [
    "### Exception Handling"
   ]
  },
  {
   "cell_type": "markdown",
   "metadata": {},
   "source": [
    " <i>Exception handling</i> is the process of responding to the occurrence, during computation, of exceptions – anomalous or exceptional conditions requiring special processing – often changing the normal flow of program execution."
   ]
  },
  {
   "cell_type": "code",
   "execution_count": null,
   "metadata": {},
   "outputs": [],
   "source": [
    "1 / 0"
   ]
  },
  {
   "cell_type": "code",
   "execution_count": null,
   "metadata": {},
   "outputs": [],
   "source": [
    "4 + spam*3"
   ]
  },
  {
   "cell_type": "code",
   "execution_count": null,
   "metadata": {},
   "outputs": [],
   "source": [
    "'2' + 2"
   ]
  },
  {
   "cell_type": "markdown",
   "metadata": {},
   "source": [
    " The last line of the error message indicates what happened. The string printed as the exception type is the name of the built-in exception that occurred. This is true for all built-in exceptions, but need not be true for user-defined exceptions. <br> <br> The rest of the line provides detail based on the type of exception and what caused it. <br> <br> The preceding part of the error message shows the context where the exception happened, in the form of a stack traceback. In general it contains a stack traceback listing source lines; however, it will not display lines read from standard input."
   ]
  },
  {
   "cell_type": "markdown",
   "metadata": {},
   "source": [
    " "
   ]
  },
  {
   "cell_type": "code",
   "execution_count": null,
   "metadata": {},
   "outputs": [],
   "source": [
    "while True:\n",
    "    try:\n",
    "        x = int(input(\"Please enter a number: \"))\n",
    "        break\n",
    "    except ValueError:\n",
    "        print(\"Oops!  That was no valid number.  Try again...\")"
   ]
  },
  {
   "cell_type": "markdown",
   "metadata": {},
   "source": [
    "The <b>try</b> statement works as follows.\n",
    "\n",
    "    * First, the try clause (the statement(s) between the try and except keywords) is executed.\n",
    "    * If no exception occurs, the except clause is skipped and execution of the try statement is finished.\n",
    "    * If an exception occurs during execution of the try clause, the rest of the clause is skipped. Then if its type matches the exception named after the except keyword, the except clause is executed, and then execution continues after the try statement.\n",
    "    * If an exception occurs which does not match the exception named in the except clause, it is passed on to outer try statements; if no handler is found, it is an unhandled exception and execution stops with a message as shown above. "
   ]
  },
  {
   "cell_type": "markdown",
   "metadata": {},
   "source": [
    "A <b>try</b> statement may have more than one except clause, to specify handlers for different exceptions. At most one handler will be executed. Handlers only handle exceptions that occur in the corresponding try clause, not in other handlers of the same try statement. An except clause may name multiple exceptions as a parenthesized tuple, for example:"
   ]
  },
  {
   "cell_type": "code",
   "execution_count": null,
   "metadata": {},
   "outputs": [],
   "source": [
    "except (RuntimeError, ValueError):\n",
    "    pass"
   ]
  },
  {
   "cell_type": "code",
   "execution_count": null,
   "metadata": {},
   "outputs": [],
   "source": [
    "import sys\n",
    "\n",
    "try:\n",
    "    f = open('myfile.txt')\n",
    "    s = f.readline()\n",
    "    i = int(s.strip())\n",
    "except OSError as err:\n",
    "    print(\"OS error: {0}\".format(err))\n",
    "except ValueError:\n",
    "    print(\"Could not convert data to an integer.\")\n",
    "except:\n",
    "    print(\"Unexpected error:\", sys.exc_info()[0])\n",
    "    raise"
   ]
  },
  {
   "cell_type": "markdown",
   "metadata": {},
   "source": [
    "The <b>try … except</b> statement has an optional <b>else</b> clause, which, when present, must follow all except clauses. It is useful for code that must be executed if the try clause does not raise an exception"
   ]
  },
  {
   "cell_type": "code",
   "execution_count": null,
   "metadata": {},
   "outputs": [],
   "source": [
    "for arg in sys.argv[1:]:\n",
    "    try:\n",
    "        f = open(arg, 'r')\n",
    "    except OSError:\n",
    "        print('cannot open', arg)\n",
    "    else:\n",
    "        print(arg, 'has', len(f.readlines()), 'lines')\n",
    "        f.close()"
   ]
  },
  {
   "cell_type": "markdown",
   "metadata": {},
   "source": [
    "#### Raising Exceptions"
   ]
  },
  {
   "cell_type": "markdown",
   "metadata": {},
   "source": [
    "The <b>raise</b> statement allows the programmer to force a specified exception to occur. "
   ]
  },
  {
   "cell_type": "code",
   "execution_count": null,
   "metadata": {},
   "outputs": [],
   "source": [
    "raise NameError('HiThere')"
   ]
  },
  {
   "cell_type": "markdown",
   "metadata": {},
   "source": [
    "The sole argument to <b>raise</b> indicates the exception to be raised. This must be either an <i>exception instance</i> or an <i>exception class</i> (a class that derives from Exception). If an exception class is passed, it will be implicitly instantiated by calling its constructor with no arguments "
   ]
  },
  {
   "cell_type": "code",
   "execution_count": null,
   "metadata": {},
   "outputs": [],
   "source": [
    "raise ValueError"
   ]
  },
  {
   "cell_type": "markdown",
   "metadata": {},
   "source": [
    " If you need to determine whether an exception was raised but don’t intend to handle it, a simpler form of the raise statement allows you to re-raise the exception"
   ]
  },
  {
   "cell_type": "code",
   "execution_count": null,
   "metadata": {},
   "outputs": [],
   "source": [
    "try:\n",
    "    raise NameError('HiThere')\n",
    "except NameError:\n",
    "    print('An exception flew by!')\n",
    "    raise"
   ]
  },
  {
   "cell_type": "markdown",
   "metadata": {},
   "source": [
    " Assert statements raise an exception of type <i>AssertionError</i>"
   ]
  },
  {
   "cell_type": "code",
   "execution_count": null,
   "metadata": {},
   "outputs": [],
   "source": [
    "assert 4 == 9"
   ]
  },
  {
   "cell_type": "code",
   "execution_count": null,
   "metadata": {},
   "outputs": [],
   "source": [
    "assert 4 == 9, \"Error Message\""
   ]
  },
  {
   "cell_type": "markdown",
   "metadata": {},
   "source": [
    "The <b>try</b> statement has another optional clause which is intended to define clean-up actions that must be executed under all circumstances. "
   ]
  },
  {
   "cell_type": "code",
   "execution_count": null,
   "metadata": {},
   "outputs": [],
   "source": [
    "try:\n",
    "    raise KeyboardInterrupt\n",
    "finally:\n",
    "    print('Goodbye, world!')"
   ]
  },
  {
   "cell_type": "markdown",
   "metadata": {},
   "source": [
    "A <b>finally</b> clause is always executed before leaving the <b>try</b> statement, whether an exception has occurred or not. When an exception has occurred in the <b>try</b> clause and has not been handled by an <b>except</b> clause (or it has occurred in an <b>except</b> or <b>else</b> clause), it is re-raised after the <b>finally</b> clause has been executed. The <b>finally</b> clause is also executed “on the way out” when any other clause of the <b>try</b> statement is left via a <b>break</b>, <b>continue</b> or <b>return</b> statement. "
   ]
  },
  {
   "cell_type": "code",
   "execution_count": null,
   "metadata": {},
   "outputs": [],
   "source": [
    "def divide(x, y):\n",
    "    try:\n",
    "        result = x / y\n",
    "    except ZeroDivisionError:\n",
    "        print(\"division by zero!\")\n",
    "    else:\n",
    "        print(\"result is\", result)\n",
    "    finally:\n",
    "        print(\"executing finally clause\")"
   ]
  },
  {
   "cell_type": "code",
   "execution_count": null,
   "metadata": {},
   "outputs": [],
   "source": [
    "divide(2, 1)"
   ]
  },
  {
   "cell_type": "code",
   "execution_count": null,
   "metadata": {},
   "outputs": [],
   "source": [
    "divide(2, 0)"
   ]
  },
  {
   "cell_type": "code",
   "execution_count": null,
   "metadata": {},
   "outputs": [],
   "source": [
    "divide(\"2\", \"1\")"
   ]
  },
  {
   "cell_type": "markdown",
   "metadata": {},
   "source": [
    " In real world applications, the <b>finally</b> clause is useful for releasing external resources (such as files or network connections), regardless of whether the use of the resource was successful."
   ]
  },
  {
   "cell_type": "markdown",
   "metadata": {},
   "source": [
    " "
   ]
  },
  {
   "cell_type": "markdown",
   "metadata": {},
   "source": [
    "### Trees"
   ]
  },
  {
   "cell_type": "markdown",
   "metadata": {},
   "source": [
    " <img alt=\"\" src=\"//upload.wikimedia.org/wikipedia/commons/thumb/b/b0/Full_binary.svg/220px-Full_binary.svg.png\" class=\"thumbimage\" srcset=\"//upload.wikimedia.org/wikipedia/commons/thumb/b/b0/Full_binary.svg/330px-Full_binary.svg.png 1.5x, //upload.wikimedia.org/wikipedia/commons/thumb/b/b0/Full_binary.svg/440px-Full_binary.svg.png 2x\" data-file-width=\"800\" data-file-height=\"598\" width=\"220\" height=\"164\">"
   ]
  },
  {
   "cell_type": "markdown",
   "metadata": {},
   "source": [
    " "
   ]
  },
  {
   "cell_type": "markdown",
   "metadata": {},
   "source": [
    " "
   ]
  },
  {
   "cell_type": "code",
   "execution_count": null,
   "metadata": {},
   "outputs": [],
   "source": [
    "class Tree:\n",
    "    \"\"\"A tree with label as its label value.\"\"\"\n",
    "    def __init__(self, label, branches=[]):\n",
    "        self.label = label\n",
    "        for branch in branches:\n",
    "            assert isinstance(branch, Tree)\n",
    "        self.branches = list(branches)\n",
    "\n",
    "    def __repr__(self):\n",
    "        if self.branches:\n",
    "            branch_str = ', ' + repr(self.branches)\n",
    "        else:\n",
    "            branch_str = ''\n",
    "        return 'Tree({0}{1})'.format(self.label, branch_str)\n",
    "\n",
    "    def __str__(self):\n",
    "        return '\\n'.join(self.indented())\n",
    "\n",
    "    def indented(self, k=0):\n",
    "        indented = []\n",
    "        for b in self.branches:\n",
    "            for line in b.indented(k + 1):\n",
    "                indented.append('  ' + line)\n",
    "        return [str(self.label)] + indented\n",
    "\n",
    "    def is_leaf(self):\n",
    "        return not self.branches"
   ]
  },
  {
   "cell_type": "code",
   "execution_count": null,
   "metadata": {},
   "outputs": [],
   "source": [
    "tree = Tree(5, [Tree(2), Tree(7, [Tree(6), Tree(8), Tree(45)])])"
   ]
  },
  {
   "cell_type": "code",
   "execution_count": null,
   "metadata": {},
   "outputs": [],
   "source": [
    "print(tree)"
   ]
  },
  {
   "cell_type": "markdown",
   "metadata": {},
   "source": [
    "A binary tree is a tree data structure in which each node has at most two children, which are referred to as the left child and the right child"
   ]
  },
  {
   "cell_type": "code",
   "execution_count": null,
   "metadata": {},
   "outputs": [],
   "source": [
    "class BTree(Tree):\n",
    "    \"\"\"A tree with exactly two branches, which may be empty.\"\"\"\n",
    "    empty = Tree(None)\n",
    "\n",
    "    def __init__(self, label, left=empty, right=empty):\n",
    "        for b in (left, right):\n",
    "            assert isinstance(b, BTree) or b is BTree.empty\n",
    "        Tree.__init__(self, label, (left, right))\n",
    "\n",
    "    @property\n",
    "    def left(self):\n",
    "        return self.branches[0]\n",
    "\n",
    "    @property\n",
    "    def right(self):\n",
    "        return self.branches[1]\n",
    "\n",
    "    def is_leaf(self):\n",
    "        return [self.left, self.right] == [BTree.empty] * 2\n",
    "\n",
    "    def __repr__(self):\n",
    "        if self.is_leaf():\n",
    "            return 'BTree({0})'.format(self.label)\n",
    "        elif self.right is BTree.empty:\n",
    "            left = repr(self.left)\n",
    "            return 'BTree({0}, {1})'.format(self.label, left)\n",
    "        else:\n",
    "            left, right = repr(self.left), repr(self.right)\n",
    "            if self.left is BTree.empty:\n",
    "                left = 'BTree.empty' \n",
    "            template = 'BTree({0}, {1}, {2})'\n",
    "            return template.format(self.label, left, right)"
   ]
  },
  {
   "cell_type": "code",
   "execution_count": null,
   "metadata": {},
   "outputs": [],
   "source": [
    "tree = BTree(4, BTree(2), BTree(9, BTree(7, BTree(3)), BTree(12)))"
   ]
  },
  {
   "cell_type": "code",
   "execution_count": null,
   "metadata": {},
   "outputs": [],
   "source": [
    "print(tree)"
   ]
  },
  {
   "cell_type": "markdown",
   "metadata": {},
   "source": [
    " "
   ]
  },
  {
   "cell_type": "code",
   "execution_count": null,
   "metadata": {},
   "outputs": [],
   "source": [
    "def contents(t):\n",
    "    \"\"\"The values in a binary tree.\n",
    "\n",
    "    >>> contents(fib_tree(5))\n",
    "    [1, 2, 0, 1, 1, 5, 0, 1, 1, 3, 1, 2, 0, 1, 1]\n",
    "    \"\"\"\n",
    "    if t is BTree.empty:\n",
    "        return []\n",
    "    else:\n",
    "        return contents(t.left) + [t.label] + contents(t.right)"
   ]
  },
  {
   "cell_type": "code",
   "execution_count": null,
   "metadata": {},
   "outputs": [],
   "source": [
    "contents(tree)"
   ]
  },
  {
   "cell_type": "markdown",
   "metadata": {},
   "source": [
    "#### Binary Search Trees"
   ]
  },
  {
   "cell_type": "markdown",
   "metadata": {},
   "source": [
    "A binary search tree is a binary tree where each node’s label is:\n",
    "    \n",
    "    •Larger than all node labels in its left branch and \n",
    "    •Smaller than all node labels in its right branch"
   ]
  },
  {
   "cell_type": "markdown",
   "metadata": {},
   "source": [
    "<img alt=\"\" src=\"//upload.wikimedia.org/wikipedia/commons/thumb/d/da/Binary_search_tree.svg/200px-Binary_search_tree.svg.png\" class=\"thumbimage\" srcset=\"//upload.wikimedia.org/wikipedia/commons/thumb/d/da/Binary_search_tree.svg/300px-Binary_search_tree.svg.png 1.5x, //upload.wikimedia.org/wikipedia/commons/thumb/d/da/Binary_search_tree.svg/400px-Binary_search_tree.svg.png 2x\" data-file-width=\"300\" data-file-height=\"250\" width=\"200\" height=\"167\"> "
   ]
  },
  {
   "cell_type": "markdown",
   "metadata": {},
   "source": [
    " "
   ]
  },
  {
   "cell_type": "markdown",
   "metadata": {},
   "source": [
    " Problem 1. <br>\n",
    " Construct a Binary Search Tree (bst)"
   ]
  },
  {
   "cell_type": "markdown",
   "metadata": {},
   "source": [
    "Problem 2. <br>\n",
    "Find the largest element in bst"
   ]
  },
  {
   "cell_type": "markdown",
   "metadata": {},
   "source": [
    "Problem 3. <br>\n",
    "Find the second largest element in bst"
   ]
  },
  {
   "cell_type": "markdown",
   "metadata": {},
   "source": [
    "Problem 4. <br>\n",
    "Check if value contains in bst"
   ]
  },
  {
   "cell_type": "markdown",
   "metadata": {},
   "source": [
    "Problem 5. <br>\n",
    "Insert element into bst"
   ]
  },
  {
   "cell_type": "markdown",
   "metadata": {},
   "source": [
    " "
   ]
  },
  {
   "cell_type": "markdown",
   "metadata": {},
   "source": [
    " "
   ]
  },
  {
   "cell_type": "markdown",
   "metadata": {},
   "source": [
    " "
   ]
  },
  {
   "cell_type": "markdown",
   "metadata": {},
   "source": [
    "##### Solutions "
   ]
  },
  {
   "cell_type": "code",
   "execution_count": null,
   "metadata": {},
   "outputs": [],
   "source": [
    "def bst(values):\n",
    "    \"\"\"Create a balanced binary search tree from a sorted list.\n",
    "\n",
    "    >>> bst([1, 3, 5, 7, 9, 11, 13])\n",
    "    BTree(7, BTree(3, BTree(1), BTree(5)), BTree(11, BTree(9), BTree(13)))\n",
    "    \"\"\"\n",
    "    if not values:\n",
    "        return BTree.empty\n",
    "    mid = len(values) // 2\n",
    "    left, right = bst(values[:mid]), bst(values[mid+1:])\n",
    "    return BTree(values[mid], left, right)"
   ]
  },
  {
   "cell_type": "code",
   "execution_count": null,
   "metadata": {},
   "outputs": [],
   "source": [
    "def largest(t):\n",
    "    \"\"\"Return the largest element in a binary search tree.\n",
    "\n",
    "    >>> largest(bst([1, 3, 5, 7, 9]))\n",
    "    9\n",
    "    \"\"\"\n",
    "    if t.right is BTree.empty:\n",
    "        return t.label\n",
    "    else:\n",
    "        return largest(t.right)"
   ]
  },
  {
   "cell_type": "code",
   "execution_count": null,
   "metadata": {},
   "outputs": [],
   "source": [
    "def second(t):\n",
    "    \"\"\"Return the second largest element in a binary search tree.\n",
    "\n",
    "    >>> second(bst([1, 3, 5]))\n",
    "    3\n",
    "    >>> second(bst([1, 3, 5, 7, 9]))\n",
    "    7\n",
    "    >>> second(Tree(1))\n",
    "    \"\"\"\n",
    "    if t.is_leaf():\n",
    "        return None\n",
    "    elif t.right is BTree.empty:\n",
    "        return largest(t.left)\n",
    "    elif t.right.is_leaf():\n",
    "        return t.label\n",
    "    else:\n",
    "        return second(t.right)"
   ]
  },
  {
   "cell_type": "code",
   "execution_count": null,
   "metadata": {},
   "outputs": [],
   "source": [
    "def contains(s, v):\n",
    "    \"\"\"Return true if set s contains value v as an element.\n",
    "\n",
    "    >>> t = BTree(2, BTree(1), BTree(3))\n",
    "    >>> contains(t, 3)\n",
    "    True\n",
    "    >>> contains(t, 0)\n",
    "    False\n",
    "    >>> contains(bst(range(20, 60, 2)), 34)\n",
    "    True\n",
    "    \"\"\"\n",
    "    if s is BTree.empty:\n",
    "        return False\n",
    "    elif s.label == v:\n",
    "        return True\n",
    "    elif s.label < v:\n",
    "        return contains(s.right, v)\n",
    "    elif s.label > v:\n",
    "        return contains(s.left, v)"
   ]
  },
  {
   "cell_type": "code",
   "execution_count": null,
   "metadata": {},
   "outputs": [],
   "source": [
    "def adjoin(s, v):\n",
    "    \"\"\"Return a set containing all elements of s and element v.\n",
    "\n",
    "    >>> b = bst(range(1, 10, 2))\n",
    "    >>> adjoin(b, 5) # already contains 5\n",
    "    BTree(5, BTree(3, BTree(1)), BTree(9, BTree(7)))\n",
    "    >>> adjoin(b, 6)\n",
    "    BTree(5, BTree(3, BTree(1)), BTree(9, BTree(7, BTree(6))))\n",
    "    >>> contents(adjoin(adjoin(b, 6), 2))\n",
    "    [1, 2, 3, 5, 6, 7, 9]\n",
    "    \"\"\"\n",
    "    if s is BTree.empty:\n",
    "        return BTree(v)\n",
    "    elif s.label == v:\n",
    "        return s\n",
    "    elif s.label < v:\n",
    "        return BTree(s.label, s.left, adjoin(s.right, v))\n",
    "    elif s.label > v:\n",
    "        return BTree(s.label, adjoin(s.left, v), s.right)"
   ]
  },
  {
   "cell_type": "markdown",
   "metadata": {},
   "source": [
    "References: <br>\n",
    "https://docs.python.org/3/tutorial/errors.html <br>\n",
    "https://cs61a.org/assets/slides/21-Tree_Sets_1pp.pdf"
   ]
  }
 ],
 "metadata": {
  "kernelspec": {
   "display_name": "Python 3",
   "language": "python",
   "name": "python3"
  },
  "language_info": {
   "codemirror_mode": {
    "name": "ipython",
    "version": 3
   },
   "file_extension": ".py",
   "mimetype": "text/x-python",
   "name": "python",
   "nbconvert_exporter": "python",
   "pygments_lexer": "ipython3",
   "version": "3.5.4"
  }
 },
 "nbformat": 4,
 "nbformat_minor": 2
}
