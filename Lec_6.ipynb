{
 "cells": [
  {
   "cell_type": "markdown",
   "metadata": {},
   "source": [
    "### Generators"
   ]
  },
  {
   "cell_type": "code",
   "execution_count": 38,
   "metadata": {},
   "outputs": [],
   "source": [
    "import random\n",
    "\n",
    "class DataGenerator:\n",
    "    def __init__(self, fun, max_points=50):\n",
    "        self.fun = fun\n",
    "        self.max_points = max_points\n",
    "        self.num_points = 0\n",
    "        \n",
    "    def __iter__(self):\n",
    "        self.num_points = 0\n",
    "        return self\n",
    "        \n",
    "    def __next__(self):\n",
    "        if self.num_points > self.max_points:\n",
    "            raise StopIteration\n",
    "        \n",
    "        self.num_points += 1\n",
    "        rp = random.uniform(100, 1000)\n",
    "        return rp, self.fun(rp)"
   ]
  },
  {
   "cell_type": "code",
   "execution_count": 39,
   "metadata": {},
   "outputs": [],
   "source": [
    "generator = DataGenerator(lambda x: 5 * x + 3)"
   ]
  },
  {
   "cell_type": "code",
   "execution_count": 40,
   "metadata": {},
   "outputs": [
    {
     "data": {
      "text/plain": [
       "[(845.0640600486024, 4228.320300243012),\n",
       " (863.7261436722572, 4321.630718361286),\n",
       " (963.0082600428848, 4818.041300214424),\n",
       " (954.3946825531367, 4774.973412765684),\n",
       " (441.56372636181914, 2210.8186318090957),\n",
       " (303.003237595104, 1518.01618797552),\n",
       " (481.9875867163329, 2412.9379335816643),\n",
       " (526.0003336770916, 2633.001668385458),\n",
       " (716.7523769762676, 3586.7618848813377),\n",
       " (785.4440182016995, 3930.2200910084975)]"
      ]
     },
     "execution_count": 40,
     "metadata": {},
     "output_type": "execute_result"
    }
   ],
   "source": [
    "points = [point for point in generator]\n",
    "points[:10]"
   ]
  },
  {
   "cell_type": "code",
   "execution_count": 41,
   "metadata": {},
   "outputs": [],
   "source": [
    "import matplotlib.pyplot as plt"
   ]
  },
  {
   "cell_type": "code",
   "execution_count": 42,
   "metadata": {},
   "outputs": [
    {
     "data": {
      "image/png": "[encoded data removed]",
      "text/plain": [
       "<matplotlib.figure.Figure at 0x7fb877660e10>"
      ]
     },
     "metadata": {},
     "output_type": "display_data"
    }
   ],
   "source": [
    "x, y = zip(*points)\n",
    "plt.scatter(x, y)\n",
    "plt.show()"
   ]
  },
  {
   "cell_type": "markdown",
   "metadata": {},
   "source": [
    "Let's add some noise to our generated data"
   ]
  },
  {
   "cell_type": "code",
   "execution_count": 43,
   "metadata": {},
   "outputs": [],
   "source": [
    "class DataGenerator:\n",
    "    def __init__(self, fun, std=100, max_points=50):\n",
    "        self.fun = fun\n",
    "        self.max_points = max_points\n",
    "        self.num_points = 0\n",
    "        self.std = std\n",
    "        \n",
    "    def __iter__(self):\n",
    "        self.num_points = 0\n",
    "        return self\n",
    "        \n",
    "    def __next__(self):\n",
    "        if self.num_points > self.max_points:\n",
    "            raise StopIteration\n",
    "        \n",
    "        self.num_points += 1\n",
    "        rp = random.uniform(100, 1000)\n",
    "        noise = random.gauss(0, self.std)\n",
    "        return rp, self.fun(rp) + noise"
   ]
  },
  {
   "cell_type": "code",
   "execution_count": 47,
   "metadata": {},
   "outputs": [],
   "source": [
    "generator = DataGenerator(lambda x: 5 * x + 3, std=200)"
   ]
  },
  {
   "cell_type": "code",
   "execution_count": 48,
   "metadata": {},
   "outputs": [],
   "source": [
    "points = [point for point in generator]"
   ]
  },
  {
   "cell_type": "code",
   "execution_count": 49,
   "metadata": {},
   "outputs": [
    {
     "data": {
      "image/png": "[encoded data removed]",
      "text/plain": [
       "<matplotlib.figure.Figure at 0x7fb87762c0b8>"
      ]
     },
     "metadata": {},
     "output_type": "display_data"
    }
   ],
   "source": [
    "x, y = zip(*points)\n",
    "plt.scatter(x, y)\n",
    "plt.show()"
   ]
  },
  {
   "cell_type": "code",
   "execution_count": null,
   "metadata": {},
   "outputs": [],
   "source": []
  }
 ],
 "metadata": {
  "kernelspec": {
   "display_name": "Python 3",
   "language": "python",
   "name": "python3"
  },
  "language_info": {
   "codemirror_mode": {
    "name": "ipython",
    "version": 3
   },
   "file_extension": ".py",
   "mimetype": "text/x-python",
   "name": "python",
   "nbconvert_exporter": "python",
   "pygments_lexer": "ipython3",
   "version": "3.5.4"
  }
 },
 "nbformat": 4,
 "nbformat_minor": 2
}
